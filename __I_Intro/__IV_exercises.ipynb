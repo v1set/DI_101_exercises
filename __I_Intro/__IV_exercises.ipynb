{
 "cells": [
  {
   "cell_type": "markdown",
   "id": "665c6a23",
   "metadata": {},
   "source": [
    "# Pratybos"
   ]
  },
  {
   "cell_type": "markdown",
   "id": "9d6cd83e",
   "metadata": {},
   "source": [
    "<code>**1-2  : Aritmetika ir kintamieji**</code><br>\n",
    "<code>**3-4  : Funkcijos**</code><br>\n",
    "<code>**5-6  : Duomenų typai**</code><br>\n",
    "<code>**7-8  : Sąlygos ir sąlyginės išraiškos**</code><br>\n",
    "<code>**9-10 : Sąrašas (masyvas)**</code>"
   ]
  },
  {
   "cell_type": "markdown",
   "id": "36ef2217",
   "metadata": {},
   "source": [
    "### Aritmetika ir kintamieji"
   ]
  },
  {
   "cell_type": "markdown",
   "id": "178ba9cb",
   "metadata": {},
   "source": [
    "## #1"
   ]
  },
  {
   "cell_type": "markdown",
   "id": "2516713c",
   "metadata": {},
   "source": [
    "Žemiau esantis kodas kodas apskaičiuoja sekundžių skaičių per ketverius metus."
   ]
  },
  {
   "cell_type": "code",
   "execution_count": 3,
   "id": "dfbb7e1e",
   "metadata": {},
   "outputs": [
    {
     "name": "stdout",
     "output_type": "stream",
     "text": [
      "126144000\n"
     ]
    }
   ],
   "source": [
    "years = 4\n",
    "days_per_year = 365 \n",
    "hours_per_day = 24\n",
    "mins_per_hour = 60\n",
    "secs_per_min  = 60\n",
    "\n",
    "total_secs = secs_per_min * mins_per_hour * hours_per_day * days_per_year * years\n",
    "print(total_secs)"
   ]
  },
  {
   "cell_type": "markdown",
   "id": "1abae6ac",
   "metadata": {},
   "source": [
    "Prašau sukurkite aritmetinio skaičaivimo seka kuri nustato kiek žmonių gimsta per diena jeigu per vieną minute gimsta <b>250</b>."
   ]
  },
  {
   "cell_type": "code",
   "execution_count": 4,
   "id": "3d34a35a",
   "metadata": {},
   "outputs": [
    {
     "name": "stdout",
     "output_type": "stream",
     "text": [
      "21600000\n"
     ]
    }
   ],
   "source": [
    "# TODO: nustatykite kintamojo births_per_min reikšmę į tai kiek yra gimusių per minutę.\n",
    "newborns_per_min = 250\n",
    "\n",
    "# TODO: sukurkte skaičvimų seką kuri apskaičiuoja kintamojo newborns_per_day reikšmę\n",
    "hours_per_day = 24\n",
    "mins_per_hour = 60\n",
    "secs_per_min  = 60\n",
    "newborns_per_day = newborns_per_min * secs_per_min * mins_per_hour * hours_per_day\n",
    "\n",
    "print(newborns_per_day)"
   ]
  },
  {
   "cell_type": "markdown",
   "id": "de4a0908",
   "metadata": {},
   "source": [
    "## #2"
   ]
  },
  {
   "cell_type": "markdown",
   "id": "d3895083",
   "metadata": {},
   "source": [
    "Tragiška istorija. Buvo laivas kuris nuskendo, o visi manė kad jis nenuskandinamas. Laive buvo <b>891</b> keleivių iš kurių <b>342</b>  išgyveno tarp išgyvenusiųjų buvo <b>113</b> vaikai. Prašau parašyti kodą kuris apskaičiuoja kokia dalis keleivių išgyveno ir kokia išgyvenusiųjų dalis buvo vaikai."
   ]
  },
  {
   "cell_type": "code",
   "execution_count": 5,
   "id": "833c5e70",
   "metadata": {},
   "outputs": [
    {
     "name": "stdout",
     "output_type": "stream",
     "text": [
      "38.38383838383838\n",
      "33.04093567251462\n"
     ]
    }
   ],
   "source": [
    "# Procentais??????????\n",
    "total    = 891 \n",
    "survived = 342\n",
    "minors   = 113 \n",
    "\n",
    "#TODO apskaičiuoti kokia dalis keleivių išgyveno\n",
    "survived_fraction = survived / total * 100\n",
    "\n",
    "print(survived_fraction)\n",
    "\n",
    "# TODO: apskaičiuoti kokia dalis tarp išgyvenusių yra vaikai\n",
    "minors_fraction = minors / survived * 100\n",
    "\n",
    "print(minors_fraction)"
   ]
  },
  {
   "cell_type": "markdown",
   "id": "394dbe4f",
   "metadata": {},
   "source": [
    "### Funkcijos"
   ]
  },
  {
   "cell_type": "markdown",
   "id": "87091170",
   "metadata": {},
   "source": [
    "## #3"
   ]
  },
  {
   "cell_type": "markdown",
   "id": "c91d4fad",
   "metadata": {},
   "source": [
    "Žemiau esančiame kodo langelyje sukurkite funkciją `get_expected_price()`, kuri  prima du argumentus:\n",
    "\n",
    " - beds  – miegamųjų kambarių skaičius\n",
    " - baths – vonios kambarių skaičius\n",
    "\n",
    "Ši funkcija turėtų grąžinti namo kainą kurią apskaičiuoja pagal miegamųjų ir vonios kambarių skaičių. Tarkime, kad:\n",
    "\n",
    " - namo su 0 miegamųjų ir 0 vonios kambarių kaina yra 80 000.\n",
    " - kiekvienas miegamasis prie kainos prideda 30 000\n",
    " - kiekvienas vonios kambarys prie kainos prideda 10 000.\n",
    " \n",
    "Pavyzdžiui,\n",
    " - namo su 1 miegamuoju ir 1 vonios kambariu numatoma kaina 120 000\n",
    " - namo su 2 miegamaisiais ir 1 vonios kambariu numatoma kaina 150 000."
   ]
  },
  {
   "cell_type": "code",
   "execution_count": 8,
   "id": "d4033701",
   "metadata": {
    "tags": []
   },
   "outputs": [
    {
     "name": "stdout",
     "output_type": "stream",
     "text": [
      "120000\n"
     ]
    }
   ],
   "source": [
    "# TODO: užbaigite funkciją\n",
    "def get_expected_price(beds, baths):\n",
    "    value = 80000\n",
    "    value += beds * 30000 + baths * 10000\n",
    "    return value\n",
    "print(get_expected_price(1, 1))"
   ]
  },
  {
   "cell_type": "markdown",
   "id": "079281f4",
   "metadata": {},
   "source": [
    "## #4"
   ]
  },
  {
   "cell_type": "markdown",
   "id": "cd63b48d",
   "metadata": {},
   "source": [
    "Apdailinkas prašo padėti  kad supaprastintumėte kai kuriuos jo darbus ir išlaidas. \n",
    "Tiksliau, kuriate įrankį, kurį ketinate naudoti patalpų dažymo išlaidoms apskaičiuoti.<br>\n",
    "\n",
    "Pirmiausia apibrėžkite funkciją `get_cost()`, kuri prims tokius argumentus kaip įvestį:\n",
    "- `sqrmt_walls`     = bendras sienų kvadratinių metrų skaičius\n",
    "- `sqrmt_ceiling`     = kvadratiniai lubų metrai, kurios turi būti nudažytos\n",
    "- `sqrmt_per_liter` = su kiek litrų dažų galima padengti 1 kvadratinį metrą \n",
    "- `cost_per_liter`  = vieno litro dažų kaina (eurais).\n",
    "\n",
    "Ši funkcija turi pasakyti kiek išlaidų turėsite (eurais) kad nudažyti visas sienas ir lubas vienu dažu sluoksniu. Tarkime, kad galite nusipirkti tikslų dažų kiekį, kurio jums reikia (pvz., jei jums reikia 7.523 litro, galite nusipirkti tikslų kiekį už tikslią sumą, o ne pirkti 8 litrus ir iššvaistyti šiek tiek dažų ir pinigų). Neapvalinkite savo atsakymo."
   ]
  },
  {
   "cell_type": "code",
   "execution_count": 9,
   "id": "959babea",
   "metadata": {},
   "outputs": [],
   "source": [
    "# TODO: Užbaigite rašyti funkciją ir išbandykite ją\n",
    "def get_cost(sqrmt_walls, sqrmt_ceiling, sqrmt_per_liter, cost_per_liter):\n",
    "    cost = (sqrmt_walls + sqrmt_ceiling) * sqrmt_per_liter * cost_per_liter\n",
    "    return cost"
   ]
  },
  {
   "cell_type": "markdown",
   "id": "f2b9cef3",
   "metadata": {},
   "source": [
    "### Duomenų typai"
   ]
  },
  {
   "cell_type": "markdown",
   "id": "25cf44f1",
   "metadata": {},
   "source": [
    "## #5"
   ]
  },
  {
   "cell_type": "markdown",
   "id": "67bd32b9",
   "metadata": {},
   "source": [
    "Šioje užduotyje remkitės ankstesniu pratimu kurioje  turėjote sukurti funkciją kuri apskaičiuoja namo vertę.\n",
    "Naudokite žemiau esantį kodo langelį, kad sukurtumėte funkciją `get_expected_cost()`, kuri kaip įvesties argumentus priima trys kintamuosius:\n",
    "\n",
    "- beds  - miegamųjų skaičius (duomenų tipas float)\n",
    "- baths – vonios kambarių skaičius (duomenų tipas float)\n",
    "- has_basement – ar namas turi rūsį, ar ne (duomenų tipas loginis)\n",
    "\n",
    "Tai turėtų grąžinti namo kainą su tam konkrečiomis savybėmis. Tarkime, kad:\n",
    "\n",
    " - namo su 0 miegamųjų ir 0 vonios kambarių ir be rūsio kaina yra 80 000,\n",
    " - kiekvienas miegamasis prie kainos prideda 30 000,\n",
    " - kiekvienas vonios kambarys prie kainis prideda 10 000 \n",
    " - rūsys prie kainis prideda 40 000.\n",
    " \n",
    "Pavyzdžiui, namo su 1 miegamuoju, 1 vonios kambariu ir be rūsiokaina yra 80 000 + 30 000 + 10 000 = 120 000.<br>\n",
    "Ši vertė bus apskaičiuojama naudojant `get_expected_cost(1, 1, False)`.<br>\n",
    "Namo su 2 miegamaisiais, 1 vonios kambariu ir rūsiu numatoma kaina yra 80000 + 2*30000 + 10000 + 40000 = 190000. Ši vertė bus apskaičiuojama naudojant `get_expected_cost(2, 1, True)`."
   ]
  },
  {
   "cell_type": "code",
   "execution_count": 10,
   "id": "d1a2b1bd",
   "metadata": {
    "tags": []
   },
   "outputs": [
    {
     "name": "stdout",
     "output_type": "stream",
     "text": [
      "120000\n"
     ]
    }
   ],
   "source": [
    "# TODO: užbaigite funkciją\n",
    "def get_expected_cost(beds, baths, has_basement):\n",
    "    value = 80000\n",
    "    value += beds * 30000 + baths * 10000\n",
    "    if has_basement:\n",
    "        value += 40000\n",
    "    return value\n",
    "print(get_expected_cost(1, 1, False))"
   ]
  },
  {
   "cell_type": "markdown",
   "id": "c302da15",
   "metadata": {},
   "source": [
    "## #6"
   ]
  },
  {
   "cell_type": "markdown",
   "id": "649dcc88",
   "metadata": {},
   "source": [
    "Internetinė parduotuvė kuri parduoda žiedus su individualiomis graviūromis. Parduotuvė siūlo tiek paauksuotus, tiek gryno aukso žiedus.\n",
    "Paauksuotų žiedų bazinė kaina yra 50 EUR, o už graviravimo vienetą ima 7 EUR.\n",
    "Gryno aukso žiedų bazinė kaina yra 100 EUR, o už vieną graviruotą vienetą ima 10 EUR.\n",
    "<code>**Pastaba:**</code>Tarpai ir skyrybos ženklai graviūroje skaičiuojami kaip išgraviruoti vienetai. Pavyzdžiui graviūra <b>'žiedų valdovas'</b>\n",
    "būtų 14:"
   ]
  },
  {
   "cell_type": "code",
   "execution_count": 11,
   "id": "970f1433",
   "metadata": {},
   "outputs": [
    {
     "name": "stdout",
     "output_type": "stream",
     "text": [
      "14\n"
     ]
    }
   ],
   "source": [
    "graviura = 'žiedų valdovas'\n",
    "ilgis = len(graviura)\n",
    "print(ilgis)"
   ]
  },
  {
   "cell_type": "markdown",
   "id": "2d781809",
   "metadata": {},
   "source": [
    "Jūsų uždavinys parašyti funkciją `cost_of_jewelry()`, kuriai reikia dviejų argumentų:<br>\n",
    "\n",
    " - `engraving`  - python eilutė (string) su graviūros tekstu\n",
    " - `solid_gold` – loginė vertė, nurodanti, ar žiedas yra iš gryno auksas ar ne.\n",
    " \n",
    "Funkcija apskaičiuoja konkretaus juvelyrikos projekto kainą pagal paduotus argumentus"
   ]
  },
  {
   "cell_type": "code",
   "execution_count": null,
   "id": "313f302d",
   "metadata": {
    "tags": []
   },
   "outputs": [],
   "source": [
    "def cost_of_jewelry(engraving, solid_gold):\n",
    "    cost = 0\n",
    "    if solid_gold:\n",
    "        cost = 100 + len(engraving) * 10\n",
    "    else:\n",
    "        cost = 50 + len(engraving) * 7\n",
    "    return cost"
   ]
  },
  {
   "cell_type": "markdown",
   "id": "89cdd552",
   "metadata": {},
   "source": [
    "### Sąlygos ir sąlyginės išraiškos"
   ]
  },
  {
   "cell_type": "markdown",
   "id": "58fb9ac2",
   "metadata": {},
   "source": [
    "## #7"
   ]
  },
  {
   "cell_type": "markdown",
   "id": "da6ed3f5",
   "metadata": {},
   "source": [
    "Programuojate vandens tiekimo įmonei. Neseniai jums buvo pavesta parašyti funkciją `get_water_bill()`, kuri naudojama vieną argumentą kaip įvestis:\n",
    "\n",
    " - `num_liter` = litrų vandens kurį klientas sunaudojo tą mėnesį, skaičius.Tai visada bus sveikasis skaičius (int) be dešimtainės dalies.\n",
    " \n",
    "Jūsų funkcija turi apskaičiuoti klientui sąskaitą už vandenį .\n",
    "Vandens tiekimo įmonė naudoja šią kainodaros struktūrą:\n",
    "\n",
    "| Grupė  | Kiekis litrais | Kaina už 1000 litrų |\n",
    "|      :-|             :- |                  :- |\n",
    "|  1     | 0 - 8000       | 5€                  |\n",
    "|  2     | 8001 - 22000   | 6€                  |\n",
    "|  3     | 22001 - 30000  | 7€                  |\n",
    "|  4     | 30001+         | 10€                 |\n"
   ]
  },
  {
   "cell_type": "markdown",
   "id": "807d45a6",
   "metadata": {},
   "source": [
    "Pavyzdžiui:\n",
    "\n",
    " - Klientas, kuris per mėnesį sunaudoja 10 000 litrų vandens, patenka į 2 grupę ir turi sumokėti 6 EUR * 10 = 60 EUR vandens sąskaitą. Kitaip tariant, `get_water_bill(10000`) turėtų grąžinti <b>60.0</b>.\n",
    " - Klientas, kuris per mėnesį sunaudoja 25 000 litrų vandens, patenka į 3 grupę ir turi sumokėti 7 EUR * 25 = 175 EUR vandens sąskaitą. Kitaip tariant, `get_water_bill(25000)` turėtų grąžinti <b>175.0</b>.\n",
    " \n",
    "<code>**Pastaba:**</code>Neapvalinkite savo atsakymo. Jūsų funkcija gali grąžinti kainą su cento dalimi."
   ]
  },
  {
   "cell_type": "code",
   "execution_count": 12,
   "id": "ceca728e",
   "metadata": {
    "tags": []
   },
   "outputs": [
    {
     "name": "stdout",
     "output_type": "stream",
     "text": [
      "60.0\n",
      "175.0\n"
     ]
    }
   ],
   "source": [
    "# TODO: Redaguokite funkciją, kad ji pateiktu teisingą sąskaitą už suvartotą kiekį vandens\n",
    "def get_water_bill(num_liter):\n",
    "    bill = 0\n",
    "    if num_liter >= 30001:\n",
    "        bill = num_liter / 1000 * 10\n",
    "    elif num_liter >= 22001 :\n",
    "         bill = num_liter / 1000 * 7\n",
    "    elif num_liter >= 8001 :\n",
    "         bill = num_liter / 1000 * 6\n",
    "    elif num_liter >= 0 :\n",
    "         bill = num_liter / 1000 * 5\n",
    "    else:\n",
    "        bill = \"INVALID NUM\"\n",
    "    return bill\n",
    "print(get_water_bill(10000))\n",
    "print(get_water_bill(25000))"
   ]
  },
  {
   "cell_type": "markdown",
   "id": "92f0f5ef",
   "metadata": {},
   "source": [
    "## #8"
   ]
  },
  {
   "cell_type": "markdown",
   "id": "0f36d57a",
   "metadata": {},
   "source": [
    "Dirbate duomenų paslaugas teikiančioje įmonėje. Už 10 EUR per mėnesį jūsų įmonė teikia 15 gigabaitų (GB) duomenų. Tada už bet kokius papildomus duomenis taikomas 0,01 EUR už MB (arba 10 EUR už GB, nes 1000 MB yra 1 GB).\n",
    "\n",
    "Naudokite žemiau esantį kodo langelį parašyti funkciją `get_phone_bill(`), kuri priima vieną argumentą kaip įvestis:\n",
    "\n",
    "- `gb` = GB duomenų skaičius, kurį klientas panaudojo per mėnesį\n",
    "\n",
    "Pavyzdžiui:\n",
    " - Klientas, kuris per mėnesį naudoja 10 GB duomenų, apmokestinamas tik 10 EUR, nes sunaudojo mažiau nei 15 GB. Kitaip tariant, `get_phone_bill(10)` turėtų grąžinti 10.\n",
    " - Klientas, kuris per mėnesį sunaudoja 15,1 GB (arba 15 GB + 100 MB) duomenų, viršijo riba 0.1 GB, todėl jis turi sumokėti 10 EUR (plano kaina) ir plius 0.01 EUR * 100 = 1 EUR,  šio kliento bendra sąskaita yra 11 EUR. Kitaip tariant, `get_phone_bill(15.1)` turėtų grąžinti 11.\n",
    " \n",
    "<code>**Pastaba:**</code>Neapvalinkite funkcijos atsakymo."
   ]
  },
  {
   "cell_type": "code",
   "execution_count": 13,
   "id": "f0e71362",
   "metadata": {
    "tags": []
   },
   "outputs": [
    {
     "name": "stdout",
     "output_type": "stream",
     "text": [
      "11.0\n"
     ]
    }
   ],
   "source": [
    "# TODO: Redaguokite funkciją, kad grąžintumėte teisingą sąskaitą už suvartotą kiekį GB duomenų \n",
    "def get_phone_bill(gb):\n",
    "    bill = 10\n",
    "    if gb > 15:\n",
    "        bill += round((gb - 15) * 10, 2) \n",
    "    return bill\n",
    "print(get_phone_bill(15.1))"
   ]
  },
  {
   "cell_type": "markdown",
   "id": "b37f1cb7",
   "metadata": {},
   "source": [
    "Sąrašas (masyvas)"
   ]
  },
  {
   "cell_type": "markdown",
   "id": "d26d363f",
   "metadata": {},
   "source": [
    "## #9"
   ]
  },
  {
   "cell_type": "markdown",
   "id": "463681a8",
   "metadata": {},
   "source": [
    "Sąraše `customers` yra klientų skaičius, kurie per pastarąjį mėnesį (kuris truko trisdešimt dienų) apsilankė restorane. \n",
    "Nustatykite kiekvieną iš šių verčių:\n",
    "\n",
    "- `avg_first_seven` – vidutinis klientų skaičius, kurie apsilankė per pirmąsias septynias mėnesio dienas\n",
    "- `avg_last_seven` – vidutinis klientų skaičius, apsilankiusių per paskutinias septynias mėnesio dienas\n",
    "- `max_per_month` – didžiausias klientų skaičius kuris apsilankė daugiausia per pastarąjį mėnesį\n",
    "- `min_per_month` – mažiausias klientų skaičius kuris apsilankė mažiausiai  per pastarąjį mėnesį\n",
    "\n",
    "<code>**Pastaba:**</code> jei sąraše turite rasti mažiausią reikšmę, naudokite `min()`, o ne patys ieškokite mažiausios reikšmės ir tiesiogiai patys įveskite skaičių."
   ]
  },
  {
   "cell_type": "code",
   "execution_count": 14,
   "id": "8a8b1bee",
   "metadata": {
    "tags": []
   },
   "outputs": [
    {
     "name": "stdout",
     "output_type": "stream",
     "text": [
      "[137, 147, 135, 128, 170, 174, 165]\n",
      "[149, 164, 163, 143, 143, 166, 171]\n",
      "174\n",
      "126\n"
     ]
    }
   ],
   "source": [
    "customers = [137, 147, 135, 128, 170, 174, 165, 146, 126, 159,\n",
    "                 141, 148, 132, 147, 168, 153, 170, 161, 148, 152,\n",
    "                 141, 151, 131, 149, 164, 163, 143, 143, 166, 171]\n",
    "\n",
    "avg_first_seven = customers [:7]\n",
    "avg_last_seven  = customers [-7:]\n",
    "max_per_month   = max(customers)\n",
    "min_per_month   = min(customers)\n",
    "print(avg_first_seven)\n",
    "print(avg_last_seven)\n",
    "print(max_per_month)\n",
    "print(min_per_month)"
   ]
  },
  {
   "cell_type": "markdown",
   "id": "1f303df5",
   "metadata": {},
   "source": [
    "## #10"
   ]
  },
  {
   "cell_type": "code",
   "execution_count": 16,
   "id": "9fefddd6",
   "metadata": {},
   "outputs": [],
   "source": [
    "flowers = \"pocket orchid, sweet pea, tiger lily, moon orchid, bird of paradise, monkshood, globe thistle\""
   ]
  },
  {
   "cell_type": "markdown",
   "id": "4e3e6aff",
   "metadata": {},
   "source": [
    "Iš tikrųjų galite greitai paversti šią eilutę (string) sąrašu su metodu `.split()`. Šios fukncijos Sskliausteliuose turime nurodyti skiriami simbolį, kuris turėtų būti naudojamas pažymėti vieno sąrašo nario pabaigą ir kito pradžią, ir įdėti jį į kabutes. Šiuo atveju tas simbolis yra kablelis, nes `\"pocket orchid, sweet pea, tiger lily, moon orchid, bird of paradise, monkshood, globe thistle\"` elementus atskiria kablelis."
   ]
  },
  {
   "cell_type": "code",
   "execution_count": 17,
   "id": "cb34708d",
   "metadata": {},
   "outputs": [
    {
     "name": "stdout",
     "output_type": "stream",
     "text": [
      "['pocket orchid', ' sweet pea', ' tiger lily', ' moon orchid', ' bird of paradise', ' monkshood', ' globe thistle']\n"
     ]
    }
   ],
   "source": [
    "print(flowers.split(\",\"))"
   ]
  },
  {
   "cell_type": "code",
   "execution_count": 18,
   "id": "9bede26f",
   "metadata": {},
   "outputs": [],
   "source": [
    "flowers_list = flowers.split(\",\")"
   ]
  },
  {
   "cell_type": "code",
   "execution_count": 19,
   "id": "820d2f64",
   "metadata": {},
   "outputs": [
    {
     "name": "stdout",
     "output_type": "stream",
     "text": [
      "<class 'list'>\n"
     ]
    }
   ],
   "source": [
    "print(type(flowers_list))"
   ]
  },
  {
   "cell_type": "code",
   "execution_count": 20,
   "id": "8416d800",
   "metadata": {},
   "outputs": [
    {
     "data": {
      "text/plain": [
       "['pocket orchid',\n",
       " ' sweet pea',\n",
       " ' tiger lily',\n",
       " ' moon orchid',\n",
       " ' bird of paradise',\n",
       " ' monkshood',\n",
       " ' globe thistle']"
      ]
     },
     "execution_count": 20,
     "metadata": {},
     "output_type": "execute_result"
    }
   ],
   "source": [
    "flowers_list"
   ]
  },
  {
   "cell_type": "markdown",
   "id": "e1d7b88b",
   "metadata": {},
   "source": [
    "Sukurkime du sąrašus:\n",
    "- `letters` turėtų būti sąrašas kuriame kiekvienas įrašas yra didžioji anglų abėcėlės raidė. Pavyzdžiui, pirmieji du įrašai turėtų būti \"A\" ir \"B\", o paskutiniai du – \"Y\" ir \"Z\". Norėdami sukurti šį sąrašą, pradžioje sukuriame eilutę `alphabet` kuri saugos šiuos įrašus.\n",
    "- `address` turėtų būti sąrašas, kuriame kiekviena adreso eilutė yra skirtingas sąrašo elementas. Šiuo atveju kiekviena adreso eilutė yra atskirta kableliu."
   ]
  },
  {
   "cell_type": "code",
   "execution_count": 23,
   "id": "b4b746ff",
   "metadata": {},
   "outputs": [
    {
     "name": "stdout",
     "output_type": "stream",
     "text": [
      "['A', 'B', 'C', 'D', 'E', 'F', 'G', 'H', 'I', 'J', 'K', 'L', 'M', 'N', 'O', 'P', 'Q', 'R', 'S', 'T', 'U', 'V', 'W', 'X', 'Y', 'Z']\n",
      "['Mr. Bean', ' Under the Stairs', ' 4 Privet Drive', ' Little Whinging', ' Surrey']\n"
     ]
    }
   ],
   "source": [
    "alphabet = \"A.B.C.D.E.F.G.H.I.J.K.L.M.N.O.P.Q.R.S.T.U.V.W.X.Y.Z\"\n",
    "address = \"Mr. Bean, Under the Stairs, 4 Privet Drive, Little Whinging, Surrey\"\n",
    "\n",
    "alphabet_list = alphabet.split(\".\")\n",
    "print(alphabet_list)\n",
    "\n",
    "address_list = address.split(\",\")\n",
    "print(address_list)"
   ]
  },
  {
   "cell_type": "markdown",
   "id": "4f297f21",
   "metadata": {},
   "source": [
    "<code>**Šių uždavinų užbaigimo terminas iki 10/28 (imtinai). Sekmės!**</code>"
   ]
  }
 ],
 "metadata": {
  "kernelspec": {
   "display_name": "Python 3 (ipykernel)",
   "language": "python",
   "name": "python3"
  },
  "language_info": {
   "codemirror_mode": {
    "name": "ipython",
    "version": 3
   },
   "file_extension": ".py",
   "mimetype": "text/x-python",
   "name": "python",
   "nbconvert_exporter": "python",
   "pygments_lexer": "ipython3",
   "version": "3.8.6"
  }
 },
 "nbformat": 4,
 "nbformat_minor": 5
}
