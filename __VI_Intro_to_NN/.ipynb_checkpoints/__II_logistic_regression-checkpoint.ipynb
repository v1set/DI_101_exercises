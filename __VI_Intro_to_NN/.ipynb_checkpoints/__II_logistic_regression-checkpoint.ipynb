{
 "cells": [
  {
   "cell_type": "markdown",
   "metadata": {},
   "source": [
    "# Logistinė regresija II\n",
    "\n",
    "<code>**Logistinė regresija yra naudojama kaip tiesinis klasifikatorius.**</code>\n",
    "Naudojama norint sukurti hiperplokštumą savybių erdvėje, kad būtų atskirti stebėjimai, priklausantys konkrečiai klasei, nuo visų kitų stebėjimų, kurie nepriklauso tai konkrečiai klasei.<br> Taigi sprendimo riba yra <code>**tiesinė**</code>.<br>\n",
    "\n",
    "Nors logistinė regresija daro pagrindines prielaidas apie stebėjimus (duomenų įrašus) kaip <code>**[IID](https://en.wikipedia.org/wiki/Independent_and_identically_distributed_random_variables)**</code>(kiekvienas stebėjimas nepriklauso nuo kitų ir visi turi identišką tikimybių pasiskirstymą).Linijinė sprendimo riba naudojama paprastumo sumetimais bet tai nereiškia kad negalime naudoti netiesinių. Tais atvejais, kai įtariame, kad sprendimo riba yra netiesinė, gali būti prasminga <code>**suformuluoti logistinę regresiją naudojant netiesinį modelį**</code> ir įvertinti, kiek geriau jis gali atlikti uždavinį."
   ]
  },
  {
   "cell_type": "code",
   "execution_count": 4,
   "metadata": {},
   "outputs": [],
   "source": [
    "import warnings\n",
    "warnings.filterwarnings('ignore')"
   ]
  },
  {
   "cell_type": "code",
   "execution_count": 251,
   "metadata": {},
   "outputs": [],
   "source": [
    "import numpy as np\n",
    "import pandas as pd \n",
    "import matplotlib.pyplot as plt"
   ]
  },
  {
   "cell_type": "code",
   "execution_count": 260,
   "metadata": {},
   "outputs": [
    {
     "data": {
      "text/html": [
       "<div>\n",
       "<style scoped>\n",
       "    .dataframe tbody tr th:only-of-type {\n",
       "        vertical-align: middle;\n",
       "    }\n",
       "\n",
       "    .dataframe tbody tr th {\n",
       "        vertical-align: top;\n",
       "    }\n",
       "\n",
       "    .dataframe thead th {\n",
       "        text-align: right;\n",
       "    }\n",
       "</style>\n",
       "<table border=\"1\" class=\"dataframe\">\n",
       "  <thead>\n",
       "    <tr style=\"text-align: right;\">\n",
       "      <th></th>\n",
       "      <th>x1</th>\n",
       "      <th>x2</th>\n",
       "      <th>y</th>\n",
       "    </tr>\n",
       "  </thead>\n",
       "  <tbody>\n",
       "    <tr>\n",
       "      <th>0</th>\n",
       "      <td>0.030968</td>\n",
       "      <td>1.067882</td>\n",
       "      <td>0.0</td>\n",
       "    </tr>\n",
       "    <tr>\n",
       "      <th>1</th>\n",
       "      <td>0.039016</td>\n",
       "      <td>0.548287</td>\n",
       "      <td>1.0</td>\n",
       "    </tr>\n",
       "    <tr>\n",
       "      <th>2</th>\n",
       "      <td>0.493464</td>\n",
       "      <td>-0.174701</td>\n",
       "      <td>1.0</td>\n",
       "    </tr>\n",
       "    <tr>\n",
       "      <th>3</th>\n",
       "      <td>1.075422</td>\n",
       "      <td>-0.505640</td>\n",
       "      <td>1.0</td>\n",
       "    </tr>\n",
       "    <tr>\n",
       "      <th>4</th>\n",
       "      <td>0.904102</td>\n",
       "      <td>0.483792</td>\n",
       "      <td>0.0</td>\n",
       "    </tr>\n",
       "    <tr>\n",
       "      <th>...</th>\n",
       "      <td>...</td>\n",
       "      <td>...</td>\n",
       "      <td>...</td>\n",
       "    </tr>\n",
       "    <tr>\n",
       "      <th>95</th>\n",
       "      <td>0.976461</td>\n",
       "      <td>-0.056683</td>\n",
       "      <td>0.0</td>\n",
       "    </tr>\n",
       "    <tr>\n",
       "      <th>96</th>\n",
       "      <td>1.338051</td>\n",
       "      <td>-0.362802</td>\n",
       "      <td>1.0</td>\n",
       "    </tr>\n",
       "    <tr>\n",
       "      <th>97</th>\n",
       "      <td>0.768554</td>\n",
       "      <td>0.489421</td>\n",
       "      <td>0.0</td>\n",
       "    </tr>\n",
       "    <tr>\n",
       "      <th>98</th>\n",
       "      <td>0.558615</td>\n",
       "      <td>0.941658</td>\n",
       "      <td>0.0</td>\n",
       "    </tr>\n",
       "    <tr>\n",
       "      <th>99</th>\n",
       "      <td>0.551804</td>\n",
       "      <td>0.680228</td>\n",
       "      <td>0.0</td>\n",
       "    </tr>\n",
       "  </tbody>\n",
       "</table>\n",
       "<p>100 rows × 3 columns</p>\n",
       "</div>"
      ],
      "text/plain": [
       "          x1        x2    y\n",
       "0   0.030968  1.067882  0.0\n",
       "1   0.039016  0.548287  1.0\n",
       "2   0.493464 -0.174701  1.0\n",
       "3   1.075422 -0.505640  1.0\n",
       "4   0.904102  0.483792  0.0\n",
       "..       ...       ...  ...\n",
       "95  0.976461 -0.056683  0.0\n",
       "96  1.338051 -0.362802  1.0\n",
       "97  0.768554  0.489421  0.0\n",
       "98  0.558615  0.941658  0.0\n",
       "99  0.551804  0.680228  0.0\n",
       "\n",
       "[100 rows x 3 columns]"
      ]
     },
     "execution_count": 260,
     "metadata": {},
     "output_type": "execute_result"
    }
   ],
   "source": [
    "data = pd.read_csv('../data_samples/data_blobs_nonlin.csv')\n",
    "data"
   ]
  },
  {
   "cell_type": "code",
   "execution_count": 261,
   "metadata": {},
   "outputs": [
    {
     "data": {
      "image/png": "[encoded data removed]",
      "text/plain": [
       "<Figure size 576x576 with 1 Axes>"
      ]
     },
     "metadata": {
      "needs_background": "light"
     },
     "output_type": "display_data"
    }
   ],
   "source": [
    "plt.figure(figsize=(8,8))\n",
    "plt.xlabel('X1')\n",
    "plt.ylabel('X2')\n",
    "plt.scatter(data.x1, data.x2, c=data.y);\n",
    "plt.grid(True)\n",
    "plt.tight_layout()"
   ]
  },
  {
   "cell_type": "markdown",
   "metadata": {},
   "source": [
    "Teigiami ir neigiami pavyzdžiai nėra tiesiškai atskiriami. Turime pridėti į modelį papildomų aukštesnės eilės polinominių funkcijų."
   ]
  },
  {
   "cell_type": "code",
   "execution_count": null,
   "metadata": {},
   "outputs": [],
   "source": [
    "mano_modelis = LogisticRegression()"
   ]
  },
  {
   "cell_type": "code",
   "execution_count": 321,
   "metadata": {},
   "outputs": [],
   "source": [
    "class LogistineRegresija:\n",
    "    def __init__(self, alpha=0.005, epochs=10000, fit_intercept='True', debug=False):\n",
    "        self._alpha         = alpha\n",
    "        self._epochs        = epochs\n",
    "        self._weights       = None\n",
    "        self._cost_history  = None\n",
    "        self._fit_intercept = fit_intercept\n",
    "        self._debug         = debug\n",
    "    \n",
    "    # former hypothesis\n",
    "    def activation(self, X):\n",
    "        if self._debug:\n",
    "            print(X.shape)\n",
    "            print(self._weights.shape)\n",
    "        z = X @ self._weights\n",
    "        return self.sigmoid(z)\n",
    "\n",
    "    def sigmoid(self, z):\n",
    "        return 1 / (1 + np.exp(-z))\n",
    "    \n",
    "    def _cost_function(self, act, y):\n",
    "        m = len(y)\n",
    "        return (1 / m) * (np.sum(-y.T.dot(np.log(act)) - (1 - y).T.dot(np.log(1 - act))))\n",
    "\n",
    "    def fit(self, X, y):\n",
    "        self._cost_history = np.zeros(self._epochs)\n",
    "        if self._fit_intercept:\n",
    "            X = np.insert(X, 0, 1, axis=1)\n",
    "        # initialize weights and convert into vector of shape (nx1)\n",
    "        m, n = X.shape\n",
    "        self._weights = np.random.rand(n)\n",
    "        for i in range(self._epochs):\n",
    "            act = self.activation(X)\n",
    "            error = act - y\n",
    "            derivative = X.T @ error\n",
    "            if self._debug:\n",
    "                print(derivative.shape)\n",
    "            self._weights -= self._alpha/m * derivative\n",
    "            self._cost_history[i] = self._cost_function(act, y)    \n",
    "            \n",
    "    def predict(self, X):\n",
    "        if self._fit_intercept:\n",
    "            X = np.insert(X, 0, 1, axis=1)\n",
    "        act = self.activation(X)\n",
    "        return np.where(act < 0.15, 0, 1)\n",
    "    \n",
    "    def accuracy(self,X, y):\n",
    "        return np.sum(self.predict(X) == y) / y.size\n",
    "    \n",
    "    def plot_data(self, data, label='', xlabel='', ylabel=''):\n",
    "        fig = plt.figure(figsize=(16,8))\n",
    "        plt.plot(range(len(data)),data, label=label)\n",
    "        plt.xlabel(xlabel, fontsize=14)\n",
    "        plt.ylabel(ylabel, fontsize=14)\n",
    "        plt.legend()\n",
    "        plt.tight_layout()\n",
    "        plt.grid(True)\n",
    "    \n",
    "    def get_coef(self):\n",
    "        return self._weights\n",
    "            \n",
    "    def get_loss(self):\n",
    "        return self._cost_history"
   ]
  },
  {
   "cell_type": "code",
   "execution_count": 264,
   "metadata": {},
   "outputs": [
    {
     "data": {
      "text/html": [
       "<div>\n",
       "<style scoped>\n",
       "    .dataframe tbody tr th:only-of-type {\n",
       "        vertical-align: middle;\n",
       "    }\n",
       "\n",
       "    .dataframe tbody tr th {\n",
       "        vertical-align: top;\n",
       "    }\n",
       "\n",
       "    .dataframe thead th {\n",
       "        text-align: right;\n",
       "    }\n",
       "</style>\n",
       "<table border=\"1\" class=\"dataframe\">\n",
       "  <thead>\n",
       "    <tr style=\"text-align: right;\">\n",
       "      <th></th>\n",
       "      <th>x1</th>\n",
       "      <th>x2</th>\n",
       "      <th>y</th>\n",
       "    </tr>\n",
       "  </thead>\n",
       "  <tbody>\n",
       "    <tr>\n",
       "      <th>0</th>\n",
       "      <td>0.030968</td>\n",
       "      <td>1.067882</td>\n",
       "      <td>0.0</td>\n",
       "    </tr>\n",
       "    <tr>\n",
       "      <th>1</th>\n",
       "      <td>0.039016</td>\n",
       "      <td>0.548287</td>\n",
       "      <td>1.0</td>\n",
       "    </tr>\n",
       "    <tr>\n",
       "      <th>2</th>\n",
       "      <td>0.493464</td>\n",
       "      <td>-0.174701</td>\n",
       "      <td>1.0</td>\n",
       "    </tr>\n",
       "    <tr>\n",
       "      <th>3</th>\n",
       "      <td>1.075422</td>\n",
       "      <td>-0.505640</td>\n",
       "      <td>1.0</td>\n",
       "    </tr>\n",
       "    <tr>\n",
       "      <th>4</th>\n",
       "      <td>0.904102</td>\n",
       "      <td>0.483792</td>\n",
       "      <td>0.0</td>\n",
       "    </tr>\n",
       "    <tr>\n",
       "      <th>...</th>\n",
       "      <td>...</td>\n",
       "      <td>...</td>\n",
       "      <td>...</td>\n",
       "    </tr>\n",
       "    <tr>\n",
       "      <th>95</th>\n",
       "      <td>0.976461</td>\n",
       "      <td>-0.056683</td>\n",
       "      <td>0.0</td>\n",
       "    </tr>\n",
       "    <tr>\n",
       "      <th>96</th>\n",
       "      <td>1.338051</td>\n",
       "      <td>-0.362802</td>\n",
       "      <td>1.0</td>\n",
       "    </tr>\n",
       "    <tr>\n",
       "      <th>97</th>\n",
       "      <td>0.768554</td>\n",
       "      <td>0.489421</td>\n",
       "      <td>0.0</td>\n",
       "    </tr>\n",
       "    <tr>\n",
       "      <th>98</th>\n",
       "      <td>0.558615</td>\n",
       "      <td>0.941658</td>\n",
       "      <td>0.0</td>\n",
       "    </tr>\n",
       "    <tr>\n",
       "      <th>99</th>\n",
       "      <td>0.551804</td>\n",
       "      <td>0.680228</td>\n",
       "      <td>0.0</td>\n",
       "    </tr>\n",
       "  </tbody>\n",
       "</table>\n",
       "<p>100 rows × 3 columns</p>\n",
       "</div>"
      ],
      "text/plain": [
       "          x1        x2    y\n",
       "0   0.030968  1.067882  0.0\n",
       "1   0.039016  0.548287  1.0\n",
       "2   0.493464 -0.174701  1.0\n",
       "3   1.075422 -0.505640  1.0\n",
       "4   0.904102  0.483792  0.0\n",
       "..       ...       ...  ...\n",
       "95  0.976461 -0.056683  0.0\n",
       "96  1.338051 -0.362802  1.0\n",
       "97  0.768554  0.489421  0.0\n",
       "98  0.558615  0.941658  0.0\n",
       "99  0.551804  0.680228  0.0\n",
       "\n",
       "[100 rows x 3 columns]"
      ]
     },
     "execution_count": 264,
     "metadata": {},
     "output_type": "execute_result"
    }
   ],
   "source": [
    "data"
   ]
  },
  {
   "cell_type": "code",
   "execution_count": 265,
   "metadata": {},
   "outputs": [],
   "source": [
    "X = data.drop('y', axis=1).values\n",
    "y = data.y.values"
   ]
  },
  {
   "cell_type": "code",
   "execution_count": 266,
   "metadata": {},
   "outputs": [
    {
     "data": {
      "text/plain": [
       "((100, 2), (100,))"
      ]
     },
     "execution_count": 266,
     "metadata": {},
     "output_type": "execute_result"
    }
   ],
   "source": [
    "X.shape, y.shape"
   ]
  },
  {
   "cell_type": "code",
   "execution_count": 280,
   "metadata": {},
   "outputs": [],
   "source": [
    "lgr1 = LogistineRegresija()"
   ]
  },
  {
   "cell_type": "code",
   "execution_count": 281,
   "metadata": {},
   "outputs": [
    {
     "data": {
      "text/plain": [
       "{'_alpha': 0.005,\n",
       " '_epochs': 10000,\n",
       " '_weights': None,\n",
       " '_cost_history': None,\n",
       " '_fit_intercept': 'True',\n",
       " '_debug': False}"
      ]
     },
     "execution_count": 281,
     "metadata": {},
     "output_type": "execute_result"
    }
   ],
   "source": [
    "lgr1.__dict__"
   ]
  },
  {
   "cell_type": "code",
   "execution_count": 282,
   "metadata": {},
   "outputs": [],
   "source": [
    "lgr1.fit(X,y)"
   ]
  },
  {
   "cell_type": "code",
   "execution_count": 283,
   "metadata": {},
   "outputs": [
    {
     "data": {
      "text/plain": [
       "{'_alpha': 0.005,\n",
       " '_epochs': 10000,\n",
       " '_weights': array([ 0.05357482,  1.29828916, -3.06864775]),\n",
       " '_cost_history': array([0.72306878, 0.72252495, 0.72198204, ..., 0.29794918, 0.29794553,\n",
       "        0.29794188]),\n",
       " '_fit_intercept': 'True',\n",
       " '_debug': False}"
      ]
     },
     "execution_count": 283,
     "metadata": {},
     "output_type": "execute_result"
    }
   ],
   "source": [
    "lgr1.__dict__"
   ]
  },
  {
   "cell_type": "code",
   "execution_count": 284,
   "metadata": {},
   "outputs": [],
   "source": [
    "cost_history = lgr1.get_loss()"
   ]
  },
  {
   "cell_type": "code",
   "execution_count": 285,
   "metadata": {},
   "outputs": [
    {
     "data": {
      "text/plain": [
       "array([0.72306878, 0.72252495, 0.72198204, ..., 0.29794918, 0.29794553,\n",
       "       0.29794188])"
      ]
     },
     "execution_count": 285,
     "metadata": {},
     "output_type": "execute_result"
    }
   ],
   "source": [
    "cost_history"
   ]
  },
  {
   "cell_type": "code",
   "execution_count": 286,
   "metadata": {},
   "outputs": [
    {
     "data": {
      "image/png": "[encoded data removed]",
      "text/plain": [
       "<Figure size 1152x576 with 1 Axes>"
      ]
     },
     "metadata": {
      "needs_background": "light"
     },
     "output_type": "display_data"
    }
   ],
   "source": [
    "lgr.plot_data(cost_history, label='lgr loss', xlabel='epochs', ylabel='cost')"
   ]
  },
  {
   "cell_type": "code",
   "execution_count": 287,
   "metadata": {},
   "outputs": [],
   "source": [
    "y_predicted = lgr1.predict(X)"
   ]
  },
  {
   "cell_type": "code",
   "execution_count": 288,
   "metadata": {},
   "outputs": [
    {
     "data": {
      "text/plain": [
       "array([0, 0, 1, 1, 0, 0, 1, 0, 0, 0, 1, 0, 1, 1, 0, 0, 0, 0, 0, 1, 0, 1,\n",
       "       0, 0, 0, 0, 1, 0, 1, 1, 1, 1, 0, 1, 0, 1, 1, 0, 1, 1, 1, 1, 0, 0,\n",
       "       0, 1, 0, 0, 1, 1, 0, 1, 0, 1, 0, 1, 0, 0, 0, 0, 1, 1, 1, 0, 1, 0,\n",
       "       0, 1, 0, 0, 0, 1, 1, 0, 0, 1, 1, 1, 0, 1, 1, 0, 1, 1, 0, 0, 1, 0,\n",
       "       0, 0, 1, 1, 1, 1, 0, 1, 1, 0, 0, 0])"
      ]
     },
     "execution_count": 288,
     "metadata": {},
     "output_type": "execute_result"
    }
   ],
   "source": [
    "y_predicted"
   ]
  },
  {
   "cell_type": "code",
   "execution_count": 289,
   "metadata": {},
   "outputs": [],
   "source": [
    "accuracy = lgr1.accuracy(X, y)"
   ]
  },
  {
   "cell_type": "code",
   "execution_count": 291,
   "metadata": {},
   "outputs": [
    {
     "data": {
      "text/plain": [
       "85.0"
      ]
     },
     "execution_count": 291,
     "metadata": {},
     "output_type": "execute_result"
    }
   ],
   "source": [
    "accuracy * 100"
   ]
  },
  {
   "cell_type": "code",
   "execution_count": 292,
   "metadata": {},
   "outputs": [
    {
     "data": {
      "text/plain": [
       "<sklearn.metrics._plot.confusion_matrix.ConfusionMatrixDisplay at 0x26a03db0>"
      ]
     },
     "execution_count": 292,
     "metadata": {},
     "output_type": "execute_result"
    },
    {
     "data": {
      "image/png": "[encoded data removed]",
      "text/plain": [
       "<Figure size 720x720 with 2 Axes>"
      ]
     },
     "metadata": {
      "needs_background": "light"
     },
     "output_type": "display_data"
    }
   ],
   "source": [
    "from sklearn import metrics\n",
    "\n",
    "confusion_matrix = metrics.confusion_matrix(y, y_predicted)\n",
    "\n",
    "cm_display = metrics.ConfusionMatrixDisplay(\n",
    "    confusion_matrix = confusion_matrix, \n",
    "    display_labels = [False, True]\n",
    ")\n",
    "fig, ax = plt.subplots(figsize=(10,10))\n",
    "cm_display.plot(ax=ax)"
   ]
  },
  {
   "cell_type": "code",
   "execution_count": 196,
   "metadata": {},
   "outputs": [],
   "source": [
    "\n",
    "def mapFeature(x1, x2, degree=1, include_bias=False):\n",
    "    polynomial = np.ones(x1.shape[0])\n",
    "    for i in range(1, degree + 1):\n",
    "        for j in range(0, i + 1):\n",
    "            \n",
    "            # column_stack operacijos pavyzdys\n",
    "            # a = np.array(('a',2,3))\n",
    "            # b = np.array((8, 0,'d'))\n",
    "            # np.column_stack((a,b))\n",
    "            \n",
    "            polynomial = np.column_stack((polynomial, (x1 ** (i-j)) * (x2 ** j)))\n",
    "    \n",
    "    if include_bias:\n",
    "        return polynomial\n",
    "    else:\n",
    "        return polynomial[:,1:]\n",
    "    \n",
    "def decision_boundary(theta, degree=1):\n",
    "    x = np.linspace(-2, 2, 50)\n",
    "    y = np.linspace(-2, 2, 50)\n",
    "    X, Y = np.meshgrid(x,y)\n",
    "    # convert X, Y to vectors for calculating additional features\n",
    "    # using vectorized implementation\n",
    "    X = np.ravel(X)\n",
    "    Y = np.ravel(Y)\n",
    "    h = np.zeros((len(x) * len(y)))\n",
    "    \n",
    "    X_poly = mapFeature(X, Y, degree)\n",
    "    X_poly = np.insert(X_poly, 0, 1, axis=1)\n",
    "    h = X_poly.dot(theta)\n",
    "    \n",
    "    # reshape X, Y, h back to matrix\n",
    "    X = X.reshape((len(x), len(y)))\n",
    "    Y = Y.reshape((len(x), len(y)))\n",
    "    h = h.reshape((len(x), len(y)))\n",
    "   \n",
    "    # TODO: make axes.fill_between()\n",
    "    plot = plt.contour(X, Y, h, levels=[0], cmap=\"gray\")\n",
    "    return plot"
   ]
  },
  {
   "cell_type": "code",
   "execution_count": 202,
   "metadata": {},
   "outputs": [],
   "source": [
    "theta = lgr.get_coef()\n",
    "theta = theta"
   ]
  },
  {
   "cell_type": "code",
   "execution_count": 332,
   "metadata": {},
   "outputs": [
    {
     "data": {
      "image/png": "[encoded data removed]",
      "text/plain": [
       "<Figure size 576x576 with 1 Axes>"
      ]
     },
     "metadata": {
      "needs_background": "light"
     },
     "output_type": "display_data"
    }
   ],
   "source": [
    "theta = lgr.get_coef()\n",
    "theta.shape\n",
    "plt.subplots(figsize=(8,8))\n",
    "plt.scatter(data.x1, data.x2, c=data.y)\n",
    "plt.xlabel('x1')\n",
    "plt.ylabel('x2')\n",
    "plt.tight_layout()\n",
    "decision_boundary(theta, degree=1);"
   ]
  },
  {
   "cell_type": "markdown",
   "metadata": {},
   "source": [
    "Kaip ir tikėtasi, šis modelis neatitinka duomenų. Modelis turi didelį poslinkį ir mažą dispersiją. y., yra linkęs manyti, kad duomenys yra tiesiškai atskiriami, o iš tikrųjų taip nėra.<br>\n",
    "Pabandykime sukurti daugiau savybių su aukštesnio laipsnio poylonomais.Pirmiausia tai padarysime su pirmos eilės polinomu <code>**laipsnis = 2**</code> (1 laipsnio polinomas tai tiesiog linija)"
   ]
  },
  {
   "cell_type": "code",
   "execution_count": 205,
   "metadata": {},
   "outputs": [
    {
     "data": {
      "text/plain": [
       "array([[ 3.09676680e-02,  1.06788152e+00],\n",
       "       [ 3.90157860e-02,  5.48287180e-01],\n",
       "       [ 4.93463650e-01, -1.74701312e-01],\n",
       "       [ 1.07542197e+00, -5.05640472e-01],\n",
       "       [ 9.04101900e-01,  4.83792106e-01],\n",
       "       [-8.81664040e-01,  3.49802422e-01],\n",
       "       [ 1.49528739e+00, -4.24987288e-01],\n",
       "       [-7.29352824e-01,  8.37379518e-01],\n",
       "       [-2.34276310e-01,  1.03316460e+00],\n",
       "       [-8.46938986e-01,  6.14079371e-01],\n",
       "       [ 1.10521391e+00,  1.28832595e-01],\n",
       "       [-6.83441240e-01,  5.98694320e-01],\n",
       "       [ 2.09068274e+00,  5.48197561e-01],\n",
       "       [ 1.15262986e+00, -4.89245032e-01],\n",
       "       [ 5.44635572e-02,  9.76309706e-01],\n",
       "       [ 1.70885311e-01,  1.95329033e-01],\n",
       "       [-6.41494257e-01,  8.19591290e-01],\n",
       "       [-6.33308024e-02,  9.98407161e-01],\n",
       "       [-7.54005595e-01,  2.97372161e-01],\n",
       "       [ 7.43875334e-01, -3.87790362e-01],\n",
       "       [-1.13024036e+00,  2.30696383e-02],\n",
       "       [ 9.18229763e-01, -4.20101206e-01],\n",
       "       [ 8.10993337e-01,  4.60634667e-01],\n",
       "       [-7.92234446e-01,  5.72952433e-01],\n",
       "       [ 2.39583546e-02,  1.57098147e-01],\n",
       "       [ 5.82784331e-01,  6.32103720e-01],\n",
       "       [ 1.72754394e+00, -2.81366796e-01],\n",
       "       [ 3.28937324e-01,  9.33758926e-01],\n",
       "       [ 7.81635681e-01,  1.51424752e-01],\n",
       "       [ 1.05404271e+00, -2.14580320e-03],\n",
       "       [ 2.04955153e+00,  5.43314481e-01],\n",
       "       [ 1.38684613e+00, -4.05428042e-01],\n",
       "       [-1.72273986e-02,  1.26117664e-01],\n",
       "       [ 2.37902124e+00,  3.58294883e-01],\n",
       "       [ 3.13540007e-02,  4.10476415e-01],\n",
       "       [ 2.01673752e+00,  1.57081038e-01],\n",
       "       [ 6.35685779e-01, -2.69856484e-01],\n",
       "       [-2.19655379e-02,  1.16677078e-01],\n",
       "       [ 1.04658600e+00,  3.31951078e-01],\n",
       "       [ 1.82561404e+00,  2.19388543e-01],\n",
       "       [ 1.82818077e+00,  9.49085953e-02],\n",
       "       [ 1.45436155e+00, -4.99716861e-01],\n",
       "       [ 4.52781449e-01,  7.81916447e-01],\n",
       "       [ 9.23361595e-02,  1.08708402e+00],\n",
       "       [-2.28011513e-01,  1.01937053e+00],\n",
       "       [ 6.51914601e-01, -4.20565991e-01],\n",
       "       [-4.09235965e-01,  9.91735380e-01],\n",
       "       [-1.54370337e-01,  3.83021317e-01],\n",
       "       [ 1.80423346e+00, -1.51663430e-01],\n",
       "       [ 9.96593825e-01, -4.48392736e-01],\n",
       "       [-3.68043182e-01,  9.78692262e-01],\n",
       "       [ 9.53518551e-01,  3.11367989e-01],\n",
       "       [-3.22498077e-02,  1.29721914e-01],\n",
       "       [ 6.13749321e-01, -3.86687025e-01],\n",
       "       [ 2.98080990e-01,  8.83725605e-01],\n",
       "       [ 1.91341644e+00,  3.70184457e-01],\n",
       "       [-2.21534704e-03,  1.19468288e-01],\n",
       "       [-7.35371469e-01,  5.52573540e-01],\n",
       "       [-1.05052187e+00,  3.23884257e-01],\n",
       "       [ 9.20407060e-01,  5.40186610e-01],\n",
       "       [ 8.75560911e-01, -5.19500166e-01],\n",
       "       [ 1.63783518e-01, -1.28736516e-01],\n",
       "       [ 2.33384326e-01, -6.78023672e-02],\n",
       "       [-9.82738357e-01,  2.97685905e-01],\n",
       "       [ 1.89768086e+00,  8.99108603e-02],\n",
       "       [-9.17051525e-01,  1.47398798e-01],\n",
       "       [-7.44751080e-01,  5.13615282e-01],\n",
       "       [ 1.06564094e+00, -4.21133951e-01],\n",
       "       [-1.01438372e+00,  2.96311371e-01],\n",
       "       [ 6.97748911e-01,  6.90135690e-01],\n",
       "       [ 2.60601580e-02,  1.09681106e+00],\n",
       "       [ 9.79487587e-01, -3.95452520e-01],\n",
       "       [ 1.73723437e+00, -1.10753326e-01],\n",
       "       [-2.75631860e-01,  1.03102604e+00],\n",
       "       [ 6.23717990e-01,  9.66077350e-01],\n",
       "       [ 1.98381946e+00,  7.41159522e-02],\n",
       "       [ 8.81887491e-01, -5.12533757e-01],\n",
       "       [ 1.76296070e+00, -1.87822314e-01],\n",
       "       [-3.42559400e-01,  8.85253574e-01],\n",
       "       [ 1.83045124e+00,  3.93216542e-01],\n",
       "       [ 4.38182744e-01, -4.15564188e-01],\n",
       "       [-9.31582593e-01,  1.00846203e-01],\n",
       "       [ 1.63055042e+00, -7.51764439e-02],\n",
       "       [ 5.07105045e-01, -4.00181752e-01],\n",
       "       [-2.65055529e-01,  7.91348306e-01],\n",
       "       [ 8.07419337e-01,  5.15266825e-01],\n",
       "       [ 5.23027629e-01, -3.19648284e-01],\n",
       "       [ 6.46197313e-01,  6.53463135e-01],\n",
       "       [-4.63598089e-01,  6.57172103e-01],\n",
       "       [-6.70140428e-01,  7.47872603e-01],\n",
       "       [ 1.14221455e+00, -5.67722981e-01],\n",
       "       [ 5.65618159e-01, -2.62805993e-01],\n",
       "       [ 1.42507217e+00, -1.63867986e-01],\n",
       "       [ 2.62117580e-01, -2.17433281e-01],\n",
       "       [ 8.39620635e-01,  6.45534999e-01],\n",
       "       [ 9.76461316e-01, -5.66827555e-02],\n",
       "       [ 1.33805051e+00, -3.62801611e-01],\n",
       "       [ 7.68553580e-01,  4.89421078e-01],\n",
       "       [ 5.58615098e-01,  9.41658161e-01],\n",
       "       [ 5.51803750e-01,  6.80227680e-01]])"
      ]
     },
     "execution_count": 205,
     "metadata": {},
     "output_type": "execute_result"
    }
   ],
   "source": [
    "X"
   ]
  },
  {
   "cell_type": "markdown",
   "metadata": {},
   "source": [
    "Sukuriame polinomą iš x1 ir x2 į <code>**[x1, x2, x1^2, x1x2, x2^2]**</code>"
   ]
  },
  {
   "cell_type": "code",
   "execution_count": 303,
   "metadata": {},
   "outputs": [],
   "source": [
    "X_poly = mapFeature(X[:,0], X[:,1], degree=6)"
   ]
  },
  {
   "cell_type": "code",
   "execution_count": 304,
   "metadata": {},
   "outputs": [
    {
     "data": {
      "text/plain": [
       "(100, 27)"
      ]
     },
     "execution_count": 304,
     "metadata": {},
     "output_type": "execute_result"
    }
   ],
   "source": [
    "X_poly.shape"
   ]
  },
  {
   "cell_type": "code",
   "execution_count": 305,
   "metadata": {},
   "outputs": [
    {
     "data": {
      "text/plain": [
       "array([3.90157860e-02, 5.48287180e-01, 1.52223155e-03, 2.13918553e-02,\n",
       "       3.00618832e-01, 5.93910605e-05, 8.34620046e-04, 1.17288800e-02,\n",
       "       1.64825452e-01, 2.31718890e-06, 3.25633571e-05, 4.57611472e-04,\n",
       "       6.43079454e-03, 9.03716821e-02, 9.04069463e-08, 1.27048497e-06,\n",
       "       1.78540712e-05, 2.50902503e-04, 3.52592220e-03, 4.95496347e-02,\n",
       "       3.52729807e-09, 4.95689697e-08, 6.96590622e-07, 9.78915837e-06,\n",
       "       1.37566626e-04, 1.93321794e-03, 2.71674295e-02])"
      ]
     },
     "execution_count": 305,
     "metadata": {},
     "output_type": "execute_result"
    }
   ],
   "source": [
    "X_poly[1,:]"
   ]
  },
  {
   "cell_type": "code",
   "execution_count": 306,
   "metadata": {},
   "outputs": [
    {
     "data": {
      "text/plain": [
       "array([0.03901579, 0.54828718])"
      ]
     },
     "execution_count": 306,
     "metadata": {},
     "output_type": "execute_result"
    }
   ],
   "source": [
    "X[1, :]"
   ]
  },
  {
   "cell_type": "markdown",
   "metadata": {},
   "source": [
    "<code>**[x1, x2, x1^2, x1x2, x2^2]**</code>"
   ]
  },
  {
   "cell_type": "code",
   "execution_count": 307,
   "metadata": {},
   "outputs": [
    {
     "data": {
      "text/plain": [
       "(0.03901579,\n",
       " 0.54828718,\n",
       " 0.0015222318693241,\n",
       " 0.0213918574745722,\n",
       " 0.3006188317523524)"
      ]
     },
     "execution_count": 307,
     "metadata": {},
     "output_type": "execute_result"
    }
   ],
   "source": [
    "0.03901579, 0.54828718, 0.03901579**2, 0.03901579 * 0.54828718, 0.54828718**2"
   ]
  },
  {
   "cell_type": "code",
   "execution_count": 308,
   "metadata": {},
   "outputs": [
    {
     "data": {
      "text/plain": [
       "array([0., 1., 1., 1., 0., 0., 1., 0., 0., 0., 0., 0., 1., 1., 0., 1., 0.,\n",
       "       0., 0., 1., 0., 1., 0., 0., 1., 0., 1., 0., 0., 0., 1., 1., 1., 1.,\n",
       "       1., 1., 1., 1., 0., 1., 1., 1., 0., 0., 0., 1., 0., 1., 1., 1., 0.,\n",
       "       0., 1., 1., 0., 1., 1., 0., 0., 0., 1., 1., 1., 0., 1., 0., 0., 1.,\n",
       "       0., 0., 0., 1., 1., 0., 0., 1., 1., 1., 0., 1., 1., 0., 1., 1., 0.,\n",
       "       0., 1., 0., 0., 0., 1., 1., 1., 1., 0., 0., 1., 0., 0., 0.])"
      ]
     },
     "execution_count": 308,
     "metadata": {},
     "output_type": "execute_result"
    }
   ],
   "source": [
    "y"
   ]
  },
  {
   "cell_type": "code",
   "execution_count": 310,
   "metadata": {},
   "outputs": [
    {
     "data": {
      "text/plain": [
       "array([3.90157860e-02, 5.48287180e-01, 1.52223155e-03, 2.13918553e-02,\n",
       "       3.00618832e-01, 5.93910605e-05, 8.34620046e-04, 1.17288800e-02,\n",
       "       1.64825452e-01, 2.31718890e-06, 3.25633571e-05, 4.57611472e-04,\n",
       "       6.43079454e-03, 9.03716821e-02, 9.04069463e-08, 1.27048497e-06,\n",
       "       1.78540712e-05, 2.50902503e-04, 3.52592220e-03, 4.95496347e-02,\n",
       "       3.52729807e-09, 4.95689697e-08, 6.96590622e-07, 9.78915837e-06,\n",
       "       1.37566626e-04, 1.93321794e-03, 2.71674295e-02])"
      ]
     },
     "execution_count": 310,
     "metadata": {},
     "output_type": "execute_result"
    }
   ],
   "source": [
    "X_poly[1,:]"
   ]
  },
  {
   "cell_type": "code",
   "execution_count": 322,
   "metadata": {},
   "outputs": [
    {
     "data": {
      "text/plain": [
       "{'_alpha': 0.005,\n",
       " '_epochs': 80000,\n",
       " '_weights': None,\n",
       " '_cost_history': None,\n",
       " '_fit_intercept': 'True',\n",
       " '_debug': False}"
      ]
     },
     "execution_count": 322,
     "metadata": {},
     "output_type": "execute_result"
    }
   ],
   "source": [
    "lgr2 = LogistineRegresija(epochs=80000)\n",
    "lgr2.__dict__"
   ]
  },
  {
   "cell_type": "code",
   "execution_count": 323,
   "metadata": {},
   "outputs": [],
   "source": [
    "lgr2.fit(X_poly, y)"
   ]
  },
  {
   "cell_type": "code",
   "execution_count": 324,
   "metadata": {},
   "outputs": [],
   "source": [
    "cost_history2 = lgr2.get_loss()"
   ]
  },
  {
   "cell_type": "code",
   "execution_count": 325,
   "metadata": {},
   "outputs": [
    {
     "data": {
      "text/plain": [
       "80000"
      ]
     },
     "execution_count": 325,
     "metadata": {},
     "output_type": "execute_result"
    }
   ],
   "source": [
    "cost_history2.size"
   ]
  },
  {
   "cell_type": "code",
   "execution_count": 326,
   "metadata": {},
   "outputs": [
    {
     "data": {
      "image/png": "[encoded data removed]",
      "text/plain": [
       "<Figure size 1152x576 with 1 Axes>"
      ]
     },
     "metadata": {
      "needs_background": "light"
     },
     "output_type": "display_data"
    }
   ],
   "source": [
    "lgr2.plot_data(cost_history2, label='lgr2 loss', xlabel='epochs', ylabel='cost')"
   ]
  },
  {
   "cell_type": "code",
   "execution_count": 327,
   "metadata": {},
   "outputs": [
    {
     "data": {
      "text/plain": [
       "array([0, 1, 1, 1, 0, 0, 1, 0, 0, 0, 0, 0, 1, 1, 0, 1, 0, 0, 0, 1, 0, 1,\n",
       "       0, 0, 1, 0, 1, 0, 0, 0, 1, 1, 1, 1, 1, 1, 1, 1, 0, 1, 1, 1, 0, 0,\n",
       "       0, 1, 0, 1, 1, 1, 0, 0, 1, 1, 0, 1, 1, 0, 0, 0, 1, 1, 1, 0, 1, 0,\n",
       "       0, 1, 0, 0, 0, 1, 1, 0, 0, 1, 1, 1, 0, 1, 1, 0, 1, 1, 0, 0, 1, 0,\n",
       "       0, 0, 1, 1, 1, 1, 0, 0, 1, 0, 0, 0])"
      ]
     },
     "execution_count": 327,
     "metadata": {},
     "output_type": "execute_result"
    }
   ],
   "source": [
    "y_predicted2 = lgr2.predict(X_poly)\n",
    "y_predicted2"
   ]
  },
  {
   "cell_type": "code",
   "execution_count": 328,
   "metadata": {},
   "outputs": [
    {
     "data": {
      "text/plain": [
       "1.0"
      ]
     },
     "execution_count": 328,
     "metadata": {},
     "output_type": "execute_result"
    }
   ],
   "source": [
    "accuracy2 = lgr2.accuracy(X_poly, y)\n",
    "accuracy2"
   ]
  },
  {
   "cell_type": "code",
   "execution_count": 329,
   "metadata": {},
   "outputs": [
    {
     "data": {
      "text/plain": [
       "(28,)"
      ]
     },
     "execution_count": 329,
     "metadata": {},
     "output_type": "execute_result"
    }
   ],
   "source": [
    "theta = lgr2.get_coef()\n",
    "theta.shape"
   ]
  },
  {
   "cell_type": "code",
   "execution_count": 331,
   "metadata": {},
   "outputs": [
    {
     "data": {
      "image/png": "[encoded data removed]",
      "text/plain": [
       "<Figure size 864x864 with 1 Axes>"
      ]
     },
     "metadata": {
      "needs_background": "light"
     },
     "output_type": "display_data"
    }
   ],
   "source": [
    "plt.subplots(figsize=(12,12))\n",
    "plt.scatter(data.x1, data.x2, c=data.y)\n",
    "plt.xlabel('x1')\n",
    "plt.ylabel('x2')\n",
    "decision_boundary(theta, degree=6);"
   ]
  },
  {
   "cell_type": "markdown",
   "metadata": {},
   "source": [
    "<div class=\"alert alert-block alert-success\">\n",
    "\n",
    "<h2>Klasės pratybos</h2>\n",
    "Pažiūrėkime į kraštutinę situaciją pridėdami labai aukštą polinomo laipsnį\n",
    "</div>"
   ]
  },
  {
   "cell_type": "markdown",
   "metadata": {},
   "source": [
    "Modelis gana sunkiai stengsis puikiai užfiksuoti kiekvieną pavyzdį ir <code>**overfits the data (lt. ?)**</code>. Šio tipo modelio turi <code>**mažą poslinkis (bias) ir didelė dispersija (high variance)**</code>. Modelis neturi iš ankstinės minties apie duomenų pavyzdžių klasių atskyrimą ir beveik tinks bet kokiems duomenims. <code>**Labai tikėtina, kad šis modelis nesugebės atkikti teisingos klasifikacijos, kai pamatys dar nemarytus naujus duomenų pavyzdžius.**</code>"
   ]
  },
  {
   "cell_type": "markdown",
   "metadata": {},
   "source": [
    "Vėliau sekančiose paskaitose aptarisme savireguliavimo mechanizmą kuris baus algoritmą, kai jis bando per daug prisitaikyti prie duomenų, šis sureguliavimo terminas vadinamas normalizavimo koeficientu bus pridėtas prie  prie kainos funkcijos ir todėl atsiras tai pat gradientinio nusileidimo algoritme dalinės išvestinės dalije.<br>\n",
    "\n",
    "\\begin{multline*}\n",
    "J(\\theta) = -\\dfrac{1}{m}[ \\sum_{i=1}^{m} y^{(i)}\\log(h_{\\theta}(x^{(i)})) + (1 -y^{(i)})\\log(1 - h_{\\theta}(x^{(i)}))] + \\dfrac{\\lambda}{2m} \\sum_{j=1}^n \\theta_{j}^{2}\n",
    "\\end{multline*}\n",
    "\n",
    " * <code>**λ Normalizavimo koeficientas**</code>\n",
    " * <code>**n savybių skaičius**</code> \n",
    " \n",
    "<code>**Pastaba:Normalizavimo terminas netaikomas 𝜃0 parametrui/svoriui!**</code> "
   ]
  },
  {
   "cell_type": "markdown",
   "metadata": {},
   "source": [
    "Tačiau atminkite, kad per didelis normalizavimo koeficientais neigiamai paveiks modelį, jis bus labai susitelkęs į kai kuriuos <code>**\"x1\" ir \"x2\"**</code> derinius.\n",
    "\n"
   ]
  }
 ],
 "metadata": {
  "kernelspec": {
   "display_name": "Python 3",
   "language": "python",
   "name": "python3"
  },
  "language_info": {
   "codemirror_mode": {
    "name": "ipython",
    "version": 3
   },
   "file_extension": ".py",
   "mimetype": "text/x-python",
   "name": "python",
   "nbconvert_exporter": "python",
   "pygments_lexer": "ipython3",
   "version": "3.7.4"
  }
 },
 "nbformat": 4,
 "nbformat_minor": 4
}
