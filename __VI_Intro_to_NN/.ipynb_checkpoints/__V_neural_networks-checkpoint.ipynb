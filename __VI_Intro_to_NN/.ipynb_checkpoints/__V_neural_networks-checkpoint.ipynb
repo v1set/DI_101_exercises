{
 "cells": [
  {
   "cell_type": "markdown",
   "id": "af317488-0992-46be-b152-63b00a1f92ba",
   "metadata": {},
   "source": [
    "# V Neuroniniai tinklai\n",
    "\n",
    "## Temos\n",
    "\n",
    "<code>**1  : Neuroninių tinklų reguliarizacijos metodai**</code><br>\n",
    "<code>**2  : Perteklinio persidengimo redukcijos technikos**</code><br>\n",
    "<code>**3  : Duomenų augmentacija**</code><br>\n",
    "<code>**4  : Ankstyvas sustabdymas**</code><br>\n",
    "<code>**5  : L2 reguliarizacija neuroniniams tinklams**</code><br>\n",
    "<code>**7  : Iškritimo koncepcija**</code><br>\n",
    "<code>**7  : Iškritimo pritaikymo interpretacija**</code><br>\n",
    "<code>**8  : Įvesties normalizacija**</code><br>\n",
    "<code>**9  : Paketo normalizacija**</code><br>\n",
    "<code>**10 : Svorių inicializacija**</code><br>\n",
    "<code>**11 : Xavier Glorot and Kaiming He inicializacija**</code><br>"
   ]
  },
  {
   "cell_type": "code",
   "execution_count": null,
   "id": "626db5a8-4ffa-472d-b2f0-7eef3f216c66",
   "metadata": {},
   "outputs": [],
   "source": []
  }
 ],
 "metadata": {
  "kernelspec": {
   "display_name": "Python 3",
   "language": "python",
   "name": "python3"
  },
  "language_info": {
   "codemirror_mode": {
    "name": "ipython",
    "version": 3
   },
   "file_extension": ".py",
   "mimetype": "text/x-python",
   "name": "python",
   "nbconvert_exporter": "python",
   "pygments_lexer": "ipython3",
   "version": "3.7.4"
  }
 },
 "nbformat": 4,
 "nbformat_minor": 5
}
