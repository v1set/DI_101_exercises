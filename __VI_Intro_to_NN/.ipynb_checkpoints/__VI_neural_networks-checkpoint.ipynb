{
 "cells": [
  {
   "cell_type": "markdown",
   "id": "b0a95670-33c2-492e-9ffa-30f68f6c8375",
   "metadata": {},
   "source": [
    "# VI Neuroniniai tinklai\n",
    "\n",
    "## Temos\n",
    "\n",
    "<code>**1  : Gradiento nusileidimo optimizavimo tobulinimas**</code><br>\n",
    "<code>**2  : Mokymosi žingsnio/greičio mažėjimas**</code><br>\n",
    "<code>**3  : Mokymosi žingsnio/greičio planuotojai PyTorch bibliotekoje.**</code><br>\n",
    "<code>**4  : SGD su pagreičiu**</code><br>\n",
    "<code>**5  : ADAM: Adaptyvaus mokymosi tempų ir pagreičio impulso derinimas**</code><br>\n",
    "<code>**7  : Įvairių optimizatorių pasirinkimas PyTorch bibliotekoje.**</code><br>\n",
    "<code>**7  : Papildomos temos ir optimizavimo algoritmų tyrimai**</code><br>"
   ]
  },
  {
   "cell_type": "code",
   "execution_count": null,
   "id": "196f7e18-a52a-4c9d-9e30-6416fea0a5ac",
   "metadata": {},
   "outputs": [],
   "source": []
  }
 ],
 "metadata": {
  "kernelspec": {
   "display_name": "Python 3",
   "language": "python",
   "name": "python3"
  },
  "language_info": {
   "codemirror_mode": {
    "name": "ipython",
    "version": 3
   },
   "file_extension": ".py",
   "mimetype": "text/x-python",
   "name": "python",
   "nbconvert_exporter": "python",
   "pygments_lexer": "ipython3",
   "version": "3.7.4"
  }
 },
 "nbformat": 4,
 "nbformat_minor": 5
}
